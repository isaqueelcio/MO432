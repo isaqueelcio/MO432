{
 "cells": [
  {
   "cell_type": "code",
   "execution_count": 1,
   "id": "corporate-laugh",
   "metadata": {},
   "outputs": [],
   "source": [
    "import io\n",
    "import random\n",
    "import requests\n",
    "import numpy as np\n",
    "import pandas as pd\n",
    "import xgboost as xgb\n",
    "from sklearn.svm import SVR\n",
    "from sklearn.svm import LinearSVR\n",
    "from scipy.stats import loguniform, uniform\n",
    "from sklearn.linear_model import Lasso\n",
    "from sklearn.linear_model import Ridge\n",
    "from sklearn.tree import DecisionTreeRegressor\n",
    "from sklearn.neighbors import KNeighborsRegressor\n",
    "from sklearn.ensemble import RandomForestRegressor\n",
    "from sklearn.ensemble import GradientBoostingRegressor\n",
    "from sklearn.preprocessing import StandardScaler\n",
    "from sklearn.linear_model import LinearRegression\n",
    "from sklearn.model_selection import cross_val_score\n",
    "from sklearn.model_selection import RandomizedSearchCV"
   ]
  },
  {
   "cell_type": "code",
   "execution_count": 2,
   "id": "trying-annex",
   "metadata": {},
   "outputs": [],
   "source": [
    "import warnings\n",
    "warnings.filterwarnings(\"ignore\")\n",
    "\n",
    "url = \"https://archive.ics.uci.edu/ml/machine-learning-databases/00514/Bias_correction_ucl.csv\"\n",
    "s = requests.get(url).content\n",
    "df = pd.read_csv(io.StringIO(s.decode('utf-8')))"
   ]
  },
  {
   "cell_type": "code",
   "execution_count": 4,
   "id": "massive-destruction",
   "metadata": {},
   "outputs": [
    {
     "name": "stdout",
     "output_type": "stream",
     "text": [
      "X: (7588, 22)\n",
      "targets: (7588, 1)\n"
     ]
    }
   ],
   "source": [
    "random.seed(42)\n",
    "\n",
    "df.drop(columns=['Next_Tmin', 'Date'], inplace=True)\n",
    "df.dropna(inplace=True)\n",
    "\n",
    "SC = StandardScaler()\n",
    "targets = df.iloc[:, 22:23]\n",
    "X = df.iloc[:, 0:22].values\n",
    "X = SC.fit_transform(X)\n",
    "\n",
    "\n",
    "print('X:', X.shape)\n",
    "print('targets:', targets.shape)"
   ]
  },
  {
   "cell_type": "code",
   "execution_count": 7,
   "id": "dirty-vector",
   "metadata": {},
   "outputs": [
    {
     "name": "stdout",
     "output_type": "stream",
     "text": [
      "Linear Regression: 1.454\n"
     ]
    }
   ],
   "source": [
    "results = {}\n",
    "results['lr'] = {}\n",
    "validation = cross_val_score(LinearRegression(), X, y, scoring='neg_root_mean_squared_error')\n",
    "results['lr']['deafult'] = np.round(np.min(-validation),3) # melhor resultado\n",
    "\n",
    "print('Linear Regression:', results['lr']['deafult'])\n"
   ]
  },
  {
   "cell_type": "markdown",
   "id": "neither-blogger",
   "metadata": {},
   "source": [
    "### MLP "
   ]
  },
  {
   "cell_type": "code",
   "execution_count": 5,
   "id": "hindu-firewall",
   "metadata": {},
   "outputs": [],
   "source": [
    "from sklearn.neural_network import MLPRegressor"
   ]
  },
  {
   "cell_type": "code",
   "execution_count": 7,
   "id": "outdoor-mirror",
   "metadata": {},
   "outputs": [],
   "source": [
    "MLP_params = {\n",
    "    'hidden_layer_sizes':(5,8,11,14,17,20,23)\n",
    "    }"
   ]
  },
  {
   "cell_type": "code",
   "execution_count": 8,
   "id": "prostate-contrast",
   "metadata": {},
   "outputs": [],
   "source": [
    "rnd_search = RandomizedSearchCV(MLPRegressor(), MLP_params, n_iter =10)\n",
    "search = rnd_search .fit(X, targets)\n",
    "\n",
    "validacao_MLP = cross_val_score(MLPRegressor(), X, targets, scoring='neg_root_mean_squared_error')\n"
   ]
  },
  {
   "cell_type": "code",
   "execution_count": 10,
   "id": "broken-amateur",
   "metadata": {},
   "outputs": [
    {
     "name": "stdout",
     "output_type": "stream",
     "text": [
      "Melhor k {'hidden_layer_sizes': 23}\n",
      "Melhor score 0.3900987189951331\n",
      "default_score 1.899\n"
     ]
    }
   ],
   "source": [
    "print(\"Melhor k\", rnd_search.best_params_)\n",
    "print(\"Melhor score\", rnd_search.best_score_)\n",
    "print(\"default_score\", np.round(np.min(-validacao_MLP ),3))"
   ]
  },
  {
   "cell_type": "markdown",
   "id": "closed-singer",
   "metadata": {},
   "source": [
    "### Arvore de decisão"
   ]
  },
  {
   "cell_type": "code",
   "execution_count": 12,
   "id": "bibliographic-investment",
   "metadata": {},
   "outputs": [],
   "source": [
    "from sklearn.tree import DecisionTreeRegressor"
   ]
  },
  {
   "cell_type": "code",
   "execution_count": 13,
   "id": "refined-mailing",
   "metadata": {},
   "outputs": [],
   "source": [
    "dtree_params = {\n",
    "    'ccp_alpha':[random.uniform(0.0, 0.4) for i in range(10)]\n",
    "    }"
   ]
  },
  {
   "cell_type": "code",
   "execution_count": 17,
   "id": "ordinary-proportion",
   "metadata": {},
   "outputs": [],
   "source": [
    "rnd_search = RandomizedSearchCV(DecisionTreeRegressor(), dtree_params, n_iter =10)\n",
    "search = rnd_search.fit(X, targets)\n",
    "\n",
    "validacao_DT = cross_val_score(DecisionTreeRegressor(), X, targets, scoring='neg_root_mean_squared_error')\n"
   ]
  },
  {
   "cell_type": "code",
   "execution_count": 18,
   "id": "satellite-permit",
   "metadata": {},
   "outputs": [
    {
     "name": "stdout",
     "output_type": "stream",
     "text": [
      "Melhor k {'ccp_alpha': 0.034775533051766463}\n",
      "Melhor score 0.6171919580564847\n",
      "default_score 2.162\n"
     ]
    }
   ],
   "source": [
    "print(\"Melhor k\", rnd_search.best_params_)\n",
    "print(\"Melhor score\", rnd_search.best_score_)\n",
    "print(\"default_score\", np.round(np.min(-validacao_DT ),3))"
   ]
  },
  {
   "cell_type": "code",
   "execution_count": 19,
   "id": "adult-taste",
   "metadata": {},
   "outputs": [],
   "source": [
    "### Random Forest"
   ]
  },
  {
   "cell_type": "code",
   "execution_count": 21,
   "id": "literary-january",
   "metadata": {},
   "outputs": [],
   "source": [
    "from sklearn.ensemble import RandomForestRegressor"
   ]
  },
  {
   "cell_type": "code",
   "execution_count": 22,
   "id": "moderate-ballot",
   "metadata": {},
   "outputs": [],
   "source": [
    "rf_params = {\n",
    "    'n_estimators':[10, 100, 1000],\n",
    "    'max_features':[5, 10, 22]\n",
    "    }"
   ]
  },
  {
   "cell_type": "code",
   "execution_count": null,
   "id": "wanted-interval",
   "metadata": {},
   "outputs": [],
   "source": [
    "rnd_search = RandomizedSearchCV(RandomForestRegressor(), rf_params, n_iter =10)\n",
    "search = rnd_search.fit(X, targets)\n",
    "\n",
    "validacao_RF = cross_val_score(RandomForestRegressor(), X, targets, scoring='neg_root_mean_squared_error')\n"
   ]
  },
  {
   "cell_type": "code",
   "execution_count": null,
   "id": "expressed-vegetarian",
   "metadata": {},
   "outputs": [],
   "source": [
    "print(\"Melhor k\", rnd_search.best_params_)\n",
    "print(\"Melhor score\", rnd_search.best_score_)\n",
    "print(\"default_score\", np.round(np.min(-validacao_RF),3))"
   ]
  },
  {
   "cell_type": "markdown",
   "id": "behavioral-society",
   "metadata": {},
   "source": [
    "### GBM"
   ]
  },
  {
   "cell_type": "code",
   "execution_count": null,
   "id": "exotic-toner",
   "metadata": {},
   "outputs": [],
   "source": [
    "from sklearn.ensemble import GradientBoostingRegressor"
   ]
  },
  {
   "cell_type": "code",
   "execution_count": null,
   "id": "steady-dining",
   "metadata": {},
   "outputs": [],
   "source": [
    "gbm_params = {\n",
    "    'n_estimators': np.random.randint(5, 100, 10),\n",
    "    'max_features':[random.uniform(0.01, 0.3) for i in range(10)],\n",
    "    'max_depth':[2, 3]\n",
    "    }"
   ]
  },
  {
   "cell_type": "code",
   "execution_count": null,
   "id": "eleven-tomato",
   "metadata": {},
   "outputs": [],
   "source": [
    "rnd_search = RandomizedSearchCV(GradientBoostingRegressor(), rf_params, n_iter =10)\n",
    "search = rnd_search.fit(X, targets)\n",
    "\n",
    "validacao_GBM = cross_val_score(GradientBoostingRegressor(), X, targets, scoring='neg_root_mean_squared_error')\n"
   ]
  },
  {
   "cell_type": "code",
   "execution_count": null,
   "id": "local-ecuador",
   "metadata": {},
   "outputs": [],
   "source": [
    "print(\"Melhor k\", rnd_search.best_params_)\n",
    "print(\"Melhor score\", rnd_search.best_score_)\n",
    "print(\"default_score\", np.round(np.min(-validacao_GBM),3))"
   ]
  }
 ],
 "metadata": {
  "kernelspec": {
   "display_name": "Python 3.6.2 64-bit",
   "language": "python",
   "name": "python36264bit225fd2f26ccd45118a7b996b38d17c90"
  },
  "language_info": {
   "codemirror_mode": {
    "name": "ipython",
    "version": 3
   },
   "file_extension": ".py",
   "mimetype": "text/x-python",
   "name": "python",
   "nbconvert_exporter": "python",
   "pygments_lexer": "ipython3",
   "version": "3.6.2"
  }
 },
 "nbformat": 4,
 "nbformat_minor": 5
}
