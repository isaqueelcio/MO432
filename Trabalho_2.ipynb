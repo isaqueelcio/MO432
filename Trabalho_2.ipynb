{
 "cells": [
  {
   "cell_type": "code",
   "execution_count": 2,
   "id": "olive-addition",
   "metadata": {},
   "outputs": [],
   "source": [
    "import pandas as pd\n",
    "import numpy as np\n",
    "from sklearn.preprocessing import StandardScaler\n",
    "import io\n",
    "import random\n",
    "import requests"
   ]
  },
  {
   "cell_type": "markdown",
   "id": "terminal-sewing",
   "metadata": {},
   "source": [
    "### Preprocessamento"
   ]
  },
  {
   "cell_type": "code",
   "execution_count": 3,
   "id": "announced-caribbean",
   "metadata": {},
   "outputs": [],
   "source": [
    "df = pd.read_csv('Bias_correction_ucl.csv')"
   ]
  },
  {
   "cell_type": "code",
   "execution_count": 4,
   "id": "physical-correction",
   "metadata": {},
   "outputs": [
    {
     "data": {
      "text/html": [
       "<div>\n",
       "<style scoped>\n",
       "    .dataframe tbody tr th:only-of-type {\n",
       "        vertical-align: middle;\n",
       "    }\n",
       "\n",
       "    .dataframe tbody tr th {\n",
       "        vertical-align: top;\n",
       "    }\n",
       "\n",
       "    .dataframe thead th {\n",
       "        text-align: right;\n",
       "    }\n",
       "</style>\n",
       "<table border=\"1\" class=\"dataframe\">\n",
       "  <thead>\n",
       "    <tr style=\"text-align: right;\">\n",
       "      <th></th>\n",
       "      <th>station</th>\n",
       "      <th>Date</th>\n",
       "      <th>Present_Tmax</th>\n",
       "      <th>Present_Tmin</th>\n",
       "      <th>LDAPS_RHmin</th>\n",
       "      <th>LDAPS_RHmax</th>\n",
       "      <th>LDAPS_Tmax_lapse</th>\n",
       "      <th>LDAPS_Tmin_lapse</th>\n",
       "      <th>LDAPS_WS</th>\n",
       "      <th>LDAPS_LH</th>\n",
       "      <th>...</th>\n",
       "      <th>LDAPS_PPT2</th>\n",
       "      <th>LDAPS_PPT3</th>\n",
       "      <th>LDAPS_PPT4</th>\n",
       "      <th>lat</th>\n",
       "      <th>lon</th>\n",
       "      <th>DEM</th>\n",
       "      <th>Slope</th>\n",
       "      <th>Solar radiation</th>\n",
       "      <th>Next_Tmax</th>\n",
       "      <th>Next_Tmin</th>\n",
       "    </tr>\n",
       "  </thead>\n",
       "  <tbody>\n",
       "    <tr>\n",
       "      <th>0</th>\n",
       "      <td>1.0</td>\n",
       "      <td>2013-06-30</td>\n",
       "      <td>28.7</td>\n",
       "      <td>21.4</td>\n",
       "      <td>58.255688</td>\n",
       "      <td>91.116364</td>\n",
       "      <td>28.074101</td>\n",
       "      <td>23.006936</td>\n",
       "      <td>6.818887</td>\n",
       "      <td>69.451805</td>\n",
       "      <td>...</td>\n",
       "      <td>0.0</td>\n",
       "      <td>0.0</td>\n",
       "      <td>0.0</td>\n",
       "      <td>37.6046</td>\n",
       "      <td>126.991</td>\n",
       "      <td>212.3350</td>\n",
       "      <td>2.7850</td>\n",
       "      <td>5992.895996</td>\n",
       "      <td>29.1</td>\n",
       "      <td>21.2</td>\n",
       "    </tr>\n",
       "    <tr>\n",
       "      <th>1</th>\n",
       "      <td>2.0</td>\n",
       "      <td>2013-06-30</td>\n",
       "      <td>31.9</td>\n",
       "      <td>21.6</td>\n",
       "      <td>52.263397</td>\n",
       "      <td>90.604721</td>\n",
       "      <td>29.850689</td>\n",
       "      <td>24.035009</td>\n",
       "      <td>5.691890</td>\n",
       "      <td>51.937448</td>\n",
       "      <td>...</td>\n",
       "      <td>0.0</td>\n",
       "      <td>0.0</td>\n",
       "      <td>0.0</td>\n",
       "      <td>37.6046</td>\n",
       "      <td>127.032</td>\n",
       "      <td>44.7624</td>\n",
       "      <td>0.5141</td>\n",
       "      <td>5869.312500</td>\n",
       "      <td>30.5</td>\n",
       "      <td>22.5</td>\n",
       "    </tr>\n",
       "    <tr>\n",
       "      <th>2</th>\n",
       "      <td>3.0</td>\n",
       "      <td>2013-06-30</td>\n",
       "      <td>31.6</td>\n",
       "      <td>23.3</td>\n",
       "      <td>48.690479</td>\n",
       "      <td>83.973587</td>\n",
       "      <td>30.091292</td>\n",
       "      <td>24.565633</td>\n",
       "      <td>6.138224</td>\n",
       "      <td>20.573050</td>\n",
       "      <td>...</td>\n",
       "      <td>0.0</td>\n",
       "      <td>0.0</td>\n",
       "      <td>0.0</td>\n",
       "      <td>37.5776</td>\n",
       "      <td>127.058</td>\n",
       "      <td>33.3068</td>\n",
       "      <td>0.2661</td>\n",
       "      <td>5863.555664</td>\n",
       "      <td>31.1</td>\n",
       "      <td>23.9</td>\n",
       "    </tr>\n",
       "    <tr>\n",
       "      <th>3</th>\n",
       "      <td>4.0</td>\n",
       "      <td>2013-06-30</td>\n",
       "      <td>32.0</td>\n",
       "      <td>23.4</td>\n",
       "      <td>58.239788</td>\n",
       "      <td>96.483688</td>\n",
       "      <td>29.704629</td>\n",
       "      <td>23.326177</td>\n",
       "      <td>5.650050</td>\n",
       "      <td>65.727144</td>\n",
       "      <td>...</td>\n",
       "      <td>0.0</td>\n",
       "      <td>0.0</td>\n",
       "      <td>0.0</td>\n",
       "      <td>37.6450</td>\n",
       "      <td>127.022</td>\n",
       "      <td>45.7160</td>\n",
       "      <td>2.5348</td>\n",
       "      <td>5856.964844</td>\n",
       "      <td>31.7</td>\n",
       "      <td>24.3</td>\n",
       "    </tr>\n",
       "    <tr>\n",
       "      <th>4</th>\n",
       "      <td>5.0</td>\n",
       "      <td>2013-06-30</td>\n",
       "      <td>31.4</td>\n",
       "      <td>21.9</td>\n",
       "      <td>56.174095</td>\n",
       "      <td>90.155128</td>\n",
       "      <td>29.113934</td>\n",
       "      <td>23.486480</td>\n",
       "      <td>5.735004</td>\n",
       "      <td>107.965535</td>\n",
       "      <td>...</td>\n",
       "      <td>0.0</td>\n",
       "      <td>0.0</td>\n",
       "      <td>0.0</td>\n",
       "      <td>37.5507</td>\n",
       "      <td>127.135</td>\n",
       "      <td>35.0380</td>\n",
       "      <td>0.5055</td>\n",
       "      <td>5859.552246</td>\n",
       "      <td>31.2</td>\n",
       "      <td>22.5</td>\n",
       "    </tr>\n",
       "  </tbody>\n",
       "</table>\n",
       "<p>5 rows × 25 columns</p>\n",
       "</div>"
      ],
      "text/plain": [
       "   station        Date  Present_Tmax  Present_Tmin  LDAPS_RHmin  LDAPS_RHmax  \\\n",
       "0      1.0  2013-06-30          28.7          21.4    58.255688    91.116364   \n",
       "1      2.0  2013-06-30          31.9          21.6    52.263397    90.604721   \n",
       "2      3.0  2013-06-30          31.6          23.3    48.690479    83.973587   \n",
       "3      4.0  2013-06-30          32.0          23.4    58.239788    96.483688   \n",
       "4      5.0  2013-06-30          31.4          21.9    56.174095    90.155128   \n",
       "\n",
       "   LDAPS_Tmax_lapse  LDAPS_Tmin_lapse  LDAPS_WS    LDAPS_LH  ...  LDAPS_PPT2  \\\n",
       "0         28.074101         23.006936  6.818887   69.451805  ...         0.0   \n",
       "1         29.850689         24.035009  5.691890   51.937448  ...         0.0   \n",
       "2         30.091292         24.565633  6.138224   20.573050  ...         0.0   \n",
       "3         29.704629         23.326177  5.650050   65.727144  ...         0.0   \n",
       "4         29.113934         23.486480  5.735004  107.965535  ...         0.0   \n",
       "\n",
       "   LDAPS_PPT3  LDAPS_PPT4      lat      lon       DEM   Slope  \\\n",
       "0         0.0         0.0  37.6046  126.991  212.3350  2.7850   \n",
       "1         0.0         0.0  37.6046  127.032   44.7624  0.5141   \n",
       "2         0.0         0.0  37.5776  127.058   33.3068  0.2661   \n",
       "3         0.0         0.0  37.6450  127.022   45.7160  2.5348   \n",
       "4         0.0         0.0  37.5507  127.135   35.0380  0.5055   \n",
       "\n",
       "   Solar radiation  Next_Tmax  Next_Tmin  \n",
       "0      5992.895996       29.1       21.2  \n",
       "1      5869.312500       30.5       22.5  \n",
       "2      5863.555664       31.1       23.9  \n",
       "3      5856.964844       31.7       24.3  \n",
       "4      5859.552246       31.2       22.5  \n",
       "\n",
       "[5 rows x 25 columns]"
      ]
     },
     "execution_count": 4,
     "metadata": {},
     "output_type": "execute_result"
    }
   ],
   "source": [
    "df.head()"
   ]
  },
  {
   "cell_type": "code",
   "execution_count": 5,
   "id": "suitable-envelope",
   "metadata": {},
   "outputs": [
    {
     "name": "stdout",
     "output_type": "stream",
     "text": [
      "X: (7588, 22)\n",
      "targets: (7588, 1)\n"
     ]
    }
   ],
   "source": [
    "random.seed(42)\n",
    "\n",
    "df.drop(columns=['Next_Tmin', 'Date'], inplace=True)\n",
    "df.dropna(inplace=True)\n",
    "\n",
    "SC = StandardScaler()\n",
    "targets = df.iloc[:, 22:23]\n",
    "X = df.iloc[:, 0:22].values\n",
    "X = SC.fit_transform(X)\n",
    "\n",
    "\n",
    "print('X:', X.shape)\n",
    "print('targets:', targets.shape)\n"
   ]
  },
  {
   "cell_type": "code",
   "execution_count": 6,
   "id": "geological-lesson",
   "metadata": {},
   "outputs": [
    {
     "data": {
      "text/plain": [
       "array([[-1.66460654, -0.35331763, -0.74802891, ...,  2.76909065,\n",
       "         1.11116193,  1.51056517],\n",
       "       [-1.52605214,  0.72513836, -0.66472063, ..., -0.31582755,\n",
       "        -0.54321979,  1.22299734],\n",
       "       [-1.38749775,  0.62403311,  0.0433998 , ..., -0.52671876,\n",
       "        -0.72389118,  1.20960169],\n",
       "       ...,\n",
       "       [ 1.38359018, -2.17321212, -2.53915704, ..., -0.85291936,\n",
       "        -0.80453765, -2.09517477],\n",
       "       [ 1.52214457, -2.17321212, -2.28923218, ..., -0.82147603,\n",
       "        -0.75580008, -2.10667071],\n",
       "       [ 1.66069897, -2.20691387, -2.41419461, ..., -0.7793405 ,\n",
       "        -0.72010291, -2.07648676]])"
      ]
     },
     "execution_count": 6,
     "metadata": {},
     "output_type": "execute_result"
    }
   ],
   "source": [
    "X"
   ]
  },
  {
   "cell_type": "code",
   "execution_count": 7,
   "id": "colored-field",
   "metadata": {},
   "outputs": [
    {
     "data": {
      "text/html": [
       "<div>\n",
       "<style scoped>\n",
       "    .dataframe tbody tr th:only-of-type {\n",
       "        vertical-align: middle;\n",
       "    }\n",
       "\n",
       "    .dataframe tbody tr th {\n",
       "        vertical-align: top;\n",
       "    }\n",
       "\n",
       "    .dataframe thead th {\n",
       "        text-align: right;\n",
       "    }\n",
       "</style>\n",
       "<table border=\"1\" class=\"dataframe\">\n",
       "  <thead>\n",
       "    <tr style=\"text-align: right;\">\n",
       "      <th></th>\n",
       "      <th>Next_Tmax</th>\n",
       "    </tr>\n",
       "  </thead>\n",
       "  <tbody>\n",
       "    <tr>\n",
       "      <th>0</th>\n",
       "      <td>29.1</td>\n",
       "    </tr>\n",
       "    <tr>\n",
       "      <th>1</th>\n",
       "      <td>30.5</td>\n",
       "    </tr>\n",
       "    <tr>\n",
       "      <th>2</th>\n",
       "      <td>31.1</td>\n",
       "    </tr>\n",
       "    <tr>\n",
       "      <th>3</th>\n",
       "      <td>31.7</td>\n",
       "    </tr>\n",
       "    <tr>\n",
       "      <th>4</th>\n",
       "      <td>31.2</td>\n",
       "    </tr>\n",
       "    <tr>\n",
       "      <th>...</th>\n",
       "      <td>...</td>\n",
       "    </tr>\n",
       "    <tr>\n",
       "      <th>7745</th>\n",
       "      <td>27.6</td>\n",
       "    </tr>\n",
       "    <tr>\n",
       "      <th>7746</th>\n",
       "      <td>28.0</td>\n",
       "    </tr>\n",
       "    <tr>\n",
       "      <th>7747</th>\n",
       "      <td>28.3</td>\n",
       "    </tr>\n",
       "    <tr>\n",
       "      <th>7748</th>\n",
       "      <td>28.6</td>\n",
       "    </tr>\n",
       "    <tr>\n",
       "      <th>7749</th>\n",
       "      <td>27.8</td>\n",
       "    </tr>\n",
       "  </tbody>\n",
       "</table>\n",
       "<p>7588 rows × 1 columns</p>\n",
       "</div>"
      ],
      "text/plain": [
       "      Next_Tmax\n",
       "0          29.1\n",
       "1          30.5\n",
       "2          31.1\n",
       "3          31.7\n",
       "4          31.2\n",
       "...         ...\n",
       "7745       27.6\n",
       "7746       28.0\n",
       "7747       28.3\n",
       "7748       28.6\n",
       "7749       27.8\n",
       "\n",
       "[7588 rows x 1 columns]"
      ]
     },
     "execution_count": 7,
     "metadata": {},
     "output_type": "execute_result"
    }
   ],
   "source": [
    "targets"
   ]
  },
  {
   "cell_type": "markdown",
   "id": "thrown-reception",
   "metadata": {},
   "source": [
    "### Linear "
   ]
  },
  {
   "cell_type": "code",
   "execution_count": 8,
   "id": "coral-obligation",
   "metadata": {},
   "outputs": [],
   "source": [
    "from sklearn.linear_model import LinearRegression\n",
    "from sklearn.model_selection import cross_val_score"
   ]
  },
  {
   "cell_type": "code",
   "execution_count": 9,
   "id": "latter-distinction",
   "metadata": {},
   "outputs": [],
   "source": [
    "validacao_Linear = cross_val_score(LinearRegression(), X, targets, scoring='neg_root_mean_squared_error')\n"
   ]
  },
  {
   "cell_type": "code",
   "execution_count": 10,
   "id": "white-marker",
   "metadata": {},
   "outputs": [
    {
     "data": {
      "text/plain": [
       "array([-1.45728827, -1.63874781, -1.45413013, -1.62441096, -1.7131539 ])"
      ]
     },
     "execution_count": 10,
     "metadata": {},
     "output_type": "execute_result"
    }
   ],
   "source": [
    "validacao_Linear"
   ]
  },
  {
   "cell_type": "code",
   "execution_count": 11,
   "id": "romantic-regression",
   "metadata": {},
   "outputs": [
    {
     "data": {
      "text/plain": [
       "1.454"
      ]
     },
     "execution_count": 11,
     "metadata": {},
     "output_type": "execute_result"
    }
   ],
   "source": [
    "# Menor valor\n",
    "np.round(np.min(-validacao_Linear ),3)"
   ]
  },
  {
   "cell_type": "code",
   "execution_count": 12,
   "id": "metallic-positive",
   "metadata": {},
   "outputs": [
    {
     "data": {
      "text/plain": [
       "1.578"
      ]
     },
     "execution_count": 12,
     "metadata": {},
     "output_type": "execute_result"
    }
   ],
   "source": [
    "# Media\n",
    "np.round(np.mean(-validacao_Linear ),3)"
   ]
  },
  {
   "cell_type": "code",
   "execution_count": 13,
   "id": "solid-digest",
   "metadata": {},
   "outputs": [],
   "source": [
    "resultados =pd.DataFrame({'resultados': ['Melhor alfa', 'Melhor score','default_score'], 'Linear': [0, 0, np.round(np.min(-validacao_Linear),3)] })"
   ]
  },
  {
   "cell_type": "markdown",
   "id": "emotional-breed",
   "metadata": {},
   "source": [
    "### Linear com regularização L1"
   ]
  },
  {
   "cell_type": "code",
   "execution_count": 14,
   "id": "forbidden-posting",
   "metadata": {},
   "outputs": [],
   "source": [
    "from sklearn.model_selection import RandomizedSearchCV\n",
    "from scipy.stats import loguniform, uniform\n",
    "from sklearn.linear_model import Lasso"
   ]
  },
  {
   "cell_type": "code",
   "execution_count": 15,
   "id": "cooperative-unemployment",
   "metadata": {},
   "outputs": [],
   "source": [
    "param = {\n",
    "    'alpha':loguniform(10e-3, 10e3)\n",
    "}"
   ]
  },
  {
   "cell_type": "code",
   "execution_count": 16,
   "id": "absolute-daughter",
   "metadata": {},
   "outputs": [],
   "source": [
    "rnd_search = RandomizedSearchCV(Lasso(), param, n_iter =10)\n",
    "search = rnd_search .fit(X, targets)\n",
    "\n",
    "validacao_L1 = cross_val_score(Lasso(), X, targets, scoring='neg_root_mean_squared_error')\n"
   ]
  },
  {
   "cell_type": "code",
   "execution_count": 17,
   "id": "naked-decimal",
   "metadata": {},
   "outputs": [
    {
     "name": "stdout",
     "output_type": "stream",
     "text": [
      "Melhor alfa 0.010046123069050877\n",
      "Melhor score 0.72369932727955\n",
      "default_score 1.736\n"
     ]
    }
   ],
   "source": [
    "print(\"Melhor alfa\", rnd_search.best_params_['alpha'])\n",
    "print(\"Melhor score\", rnd_search.best_score_)\n",
    "print(\"default_score\", np.round(np.min(-validacao_L1 ),3))"
   ]
  },
  {
   "cell_type": "code",
   "execution_count": 18,
   "id": "secondary-practitioner",
   "metadata": {},
   "outputs": [],
   "source": [
    "resultados['L1'] =pd.DataFrame({ 'L1': [rnd_search.best_params_['alpha'], rnd_search.best_score_, np.round(np.min(-validacao_L1 ),3)] })"
   ]
  },
  {
   "cell_type": "code",
   "execution_count": 19,
   "id": "charming-courage",
   "metadata": {},
   "outputs": [
    {
     "data": {
      "text/html": [
       "<div>\n",
       "<style scoped>\n",
       "    .dataframe tbody tr th:only-of-type {\n",
       "        vertical-align: middle;\n",
       "    }\n",
       "\n",
       "    .dataframe tbody tr th {\n",
       "        vertical-align: top;\n",
       "    }\n",
       "\n",
       "    .dataframe thead th {\n",
       "        text-align: right;\n",
       "    }\n",
       "</style>\n",
       "<table border=\"1\" class=\"dataframe\">\n",
       "  <thead>\n",
       "    <tr style=\"text-align: right;\">\n",
       "      <th></th>\n",
       "      <th>resultados</th>\n",
       "      <th>Linear</th>\n",
       "      <th>L1</th>\n",
       "    </tr>\n",
       "  </thead>\n",
       "  <tbody>\n",
       "    <tr>\n",
       "      <th>0</th>\n",
       "      <td>Melhor alfa</td>\n",
       "      <td>0.000</td>\n",
       "      <td>0.010046</td>\n",
       "    </tr>\n",
       "    <tr>\n",
       "      <th>1</th>\n",
       "      <td>Melhor score</td>\n",
       "      <td>0.000</td>\n",
       "      <td>0.723699</td>\n",
       "    </tr>\n",
       "    <tr>\n",
       "      <th>2</th>\n",
       "      <td>default_score</td>\n",
       "      <td>1.454</td>\n",
       "      <td>1.736000</td>\n",
       "    </tr>\n",
       "  </tbody>\n",
       "</table>\n",
       "</div>"
      ],
      "text/plain": [
       "      resultados  Linear        L1\n",
       "0    Melhor alfa   0.000  0.010046\n",
       "1   Melhor score   0.000  0.723699\n",
       "2  default_score   1.454  1.736000"
      ]
     },
     "execution_count": 19,
     "metadata": {},
     "output_type": "execute_result"
    }
   ],
   "source": [
    "resultados"
   ]
  },
  {
   "cell_type": "markdown",
   "id": "popular-orchestra",
   "metadata": {},
   "source": [
    "### Linear com regularização L2"
   ]
  },
  {
   "cell_type": "code",
   "execution_count": 20,
   "id": "weekly-flour",
   "metadata": {},
   "outputs": [],
   "source": [
    "from sklearn.linear_model import Ridge"
   ]
  },
  {
   "cell_type": "code",
   "execution_count": 21,
   "id": "active-statistics",
   "metadata": {},
   "outputs": [],
   "source": [
    "param = {\n",
    "    'alpha':loguniform(10e-3, 10e3)\n",
    "}"
   ]
  },
  {
   "cell_type": "code",
   "execution_count": 22,
   "id": "adjustable-louisville",
   "metadata": {},
   "outputs": [],
   "source": [
    "rnd_search = RandomizedSearchCV(Ridge(), param, n_iter =10)\n",
    "search = rnd_search .fit(X, targets)\n",
    "\n",
    "validacao_L2 = cross_val_score(Ridge(), X, targets, scoring='neg_root_mean_squared_error')\n"
   ]
  },
  {
   "cell_type": "code",
   "execution_count": 23,
   "id": "killing-commerce",
   "metadata": {},
   "outputs": [
    {
     "name": "stdout",
     "output_type": "stream",
     "text": [
      "Melhor alfa 26.034788500141026\n",
      "Melhor score 0.7220155596138834\n",
      "default_score 1.454\n"
     ]
    }
   ],
   "source": [
    "print(\"Melhor alfa\", rnd_search.best_params_['alpha'])\n",
    "print(\"Melhor score\", rnd_search.best_score_)\n",
    "print(\"default_score\", np.round(np.min(-validacao_L2 ),3))"
   ]
  },
  {
   "cell_type": "code",
   "execution_count": 24,
   "id": "sharp-shannon",
   "metadata": {},
   "outputs": [],
   "source": [
    "resultados['L2'] = pd.DataFrame({ 'L2': [rnd_search.best_params_['alpha'], rnd_search.best_score_, np.round(np.min(-validacao_L2 ),3)] })"
   ]
  },
  {
   "cell_type": "code",
   "execution_count": 25,
   "id": "younger-compact",
   "metadata": {},
   "outputs": [
    {
     "data": {
      "text/html": [
       "<div>\n",
       "<style scoped>\n",
       "    .dataframe tbody tr th:only-of-type {\n",
       "        vertical-align: middle;\n",
       "    }\n",
       "\n",
       "    .dataframe tbody tr th {\n",
       "        vertical-align: top;\n",
       "    }\n",
       "\n",
       "    .dataframe thead th {\n",
       "        text-align: right;\n",
       "    }\n",
       "</style>\n",
       "<table border=\"1\" class=\"dataframe\">\n",
       "  <thead>\n",
       "    <tr style=\"text-align: right;\">\n",
       "      <th></th>\n",
       "      <th>resultados</th>\n",
       "      <th>Linear</th>\n",
       "      <th>L1</th>\n",
       "      <th>L2</th>\n",
       "    </tr>\n",
       "  </thead>\n",
       "  <tbody>\n",
       "    <tr>\n",
       "      <th>0</th>\n",
       "      <td>Melhor alfa</td>\n",
       "      <td>0.000</td>\n",
       "      <td>0.010046</td>\n",
       "      <td>26.034789</td>\n",
       "    </tr>\n",
       "    <tr>\n",
       "      <th>1</th>\n",
       "      <td>Melhor score</td>\n",
       "      <td>0.000</td>\n",
       "      <td>0.723699</td>\n",
       "      <td>0.722016</td>\n",
       "    </tr>\n",
       "    <tr>\n",
       "      <th>2</th>\n",
       "      <td>default_score</td>\n",
       "      <td>1.454</td>\n",
       "      <td>1.736000</td>\n",
       "      <td>1.454000</td>\n",
       "    </tr>\n",
       "  </tbody>\n",
       "</table>\n",
       "</div>"
      ],
      "text/plain": [
       "      resultados  Linear        L1         L2\n",
       "0    Melhor alfa   0.000  0.010046  26.034789\n",
       "1   Melhor score   0.000  0.723699   0.722016\n",
       "2  default_score   1.454  1.736000   1.454000"
      ]
     },
     "execution_count": 25,
     "metadata": {},
     "output_type": "execute_result"
    }
   ],
   "source": [
    "resultados"
   ]
  },
  {
   "cell_type": "markdown",
   "id": "synthetic-moldova",
   "metadata": {},
   "source": [
    "### SVM Linear"
   ]
  },
  {
   "cell_type": "code",
   "execution_count": 26,
   "id": "starting-conjunction",
   "metadata": {},
   "outputs": [],
   "source": [
    "from sklearn.svm import LinearSVR\n",
    "import warnings\n",
    "warnings.filterwarnings('ignore')"
   ]
  },
  {
   "cell_type": "code",
   "execution_count": 27,
   "id": "accessory-baptist",
   "metadata": {},
   "outputs": [],
   "source": [
    "param = {\n",
    "    'epsilon':[0.1, 0.3],\n",
    "    'C': loguniform(2e-15,2e15)\n",
    "    }"
   ]
  },
  {
   "cell_type": "code",
   "execution_count": 28,
   "id": "surgical-police",
   "metadata": {},
   "outputs": [],
   "source": [
    "rnd_search = RandomizedSearchCV(LinearSVR(), param, n_iter =10)\n",
    "search = rnd_search .fit(X, targets)\n",
    "\n",
    "validacao_LinearSVR = cross_val_score(LinearSVR(), X, targets, scoring='neg_root_mean_squared_error')\n"
   ]
  },
  {
   "cell_type": "code",
   "execution_count": 29,
   "id": "directed-asset",
   "metadata": {},
   "outputs": [
    {
     "name": "stdout",
     "output_type": "stream",
     "text": [
      "Melhor parametros {'C': 0.16410600069924242, 'epsilon': 0.1}\n",
      "Melhor score 0.7264640501873735\n",
      "default_score 1.424\n"
     ]
    }
   ],
   "source": [
    "print(\"Melhor parametros\", rnd_search.best_params_)\n",
    "print(\"Melhor score\", rnd_search.best_score_)\n",
    "print(\"default_score\", np.round(np.min(-validacao_LinearSVR ),3))"
   ]
  },
  {
   "cell_type": "code",
   "execution_count": 30,
   "id": "blank-freedom",
   "metadata": {},
   "outputs": [],
   "source": [
    "resultados['LinearSVR'] = pd.DataFrame({ 'LinearSVR': [rnd_search.best_params_, rnd_search.best_score_, np.round(np.min(-validacao_LinearSVR ),3)] })"
   ]
  },
  {
   "cell_type": "code",
   "execution_count": 31,
   "id": "naked-instrumentation",
   "metadata": {},
   "outputs": [
    {
     "data": {
      "text/html": [
       "<div>\n",
       "<style scoped>\n",
       "    .dataframe tbody tr th:only-of-type {\n",
       "        vertical-align: middle;\n",
       "    }\n",
       "\n",
       "    .dataframe tbody tr th {\n",
       "        vertical-align: top;\n",
       "    }\n",
       "\n",
       "    .dataframe thead th {\n",
       "        text-align: right;\n",
       "    }\n",
       "</style>\n",
       "<table border=\"1\" class=\"dataframe\">\n",
       "  <thead>\n",
       "    <tr style=\"text-align: right;\">\n",
       "      <th></th>\n",
       "      <th>resultados</th>\n",
       "      <th>Linear</th>\n",
       "      <th>L1</th>\n",
       "      <th>L2</th>\n",
       "      <th>LinearSVR</th>\n",
       "    </tr>\n",
       "  </thead>\n",
       "  <tbody>\n",
       "    <tr>\n",
       "      <th>0</th>\n",
       "      <td>Melhor alfa</td>\n",
       "      <td>0.000</td>\n",
       "      <td>0.010046</td>\n",
       "      <td>26.034789</td>\n",
       "      <td>{'C': 0.16410600069924242, 'epsilon': 0.1}</td>\n",
       "    </tr>\n",
       "    <tr>\n",
       "      <th>1</th>\n",
       "      <td>Melhor score</td>\n",
       "      <td>0.000</td>\n",
       "      <td>0.723699</td>\n",
       "      <td>0.722016</td>\n",
       "      <td>0.726464</td>\n",
       "    </tr>\n",
       "    <tr>\n",
       "      <th>2</th>\n",
       "      <td>default_score</td>\n",
       "      <td>1.454</td>\n",
       "      <td>1.736000</td>\n",
       "      <td>1.454000</td>\n",
       "      <td>1.424</td>\n",
       "    </tr>\n",
       "  </tbody>\n",
       "</table>\n",
       "</div>"
      ],
      "text/plain": [
       "      resultados  Linear        L1         L2  \\\n",
       "0    Melhor alfa   0.000  0.010046  26.034789   \n",
       "1   Melhor score   0.000  0.723699   0.722016   \n",
       "2  default_score   1.454  1.736000   1.454000   \n",
       "\n",
       "                                    LinearSVR  \n",
       "0  {'C': 0.16410600069924242, 'epsilon': 0.1}  \n",
       "1                                    0.726464  \n",
       "2                                       1.424  "
      ]
     },
     "execution_count": 31,
     "metadata": {},
     "output_type": "execute_result"
    }
   ],
   "source": [
    "resultados"
   ]
  },
  {
   "cell_type": "markdown",
   "id": "lesbian-essence",
   "metadata": {},
   "source": [
    "### SVM com kernel RBF"
   ]
  },
  {
   "cell_type": "code",
   "execution_count": 65,
   "id": "identical-coverage",
   "metadata": {},
   "outputs": [],
   "source": [
    "from sklearn.svm import SVR"
   ]
  },
  {
   "cell_type": "code",
   "execution_count": 66,
   "id": "chronic-focus",
   "metadata": {},
   "outputs": [],
   "source": [
    "param = {\n",
    "    'epsilon':[0.1, 0.3],\n",
    "    'C':loguniform(2e-15,2e15),\n",
    "    'gamma':loguniform(2e-9,2e3)\n",
    "    }"
   ]
  },
  {
   "cell_type": "code",
   "execution_count": 67,
   "id": "round-democracy",
   "metadata": {},
   "outputs": [],
   "source": [
    "rnd_search = RandomizedSearchCV(SVR(), param, n_iter =10)\n",
    "search = rnd_search .fit(X, targets)\n",
    "\n",
    "validacao_SVR = cross_val_score(SVR(), X, targets, scoring='neg_root_mean_squared_error')\n"
   ]
  },
  {
   "cell_type": "code",
   "execution_count": 68,
   "id": "hollow-spine",
   "metadata": {},
   "outputs": [
    {
     "name": "stdout",
     "output_type": "stream",
     "text": [
      "Melhor parametros {'C': 3.753556948446938, 'epsilon': 0.1, 'gamma': 1.871747481086105e-05}\n",
      "Melhor score 0.5764670468972979\n",
      "default_score 1.502\n"
     ]
    }
   ],
   "source": [
    "print(\"Melhor parametros\", rnd_search.best_params_)\n",
    "print(\"Melhor score\", rnd_search.best_score_)\n",
    "print(\"default_score\", np.round(np.min(-validacao_SVR ),3))"
   ]
  },
  {
   "cell_type": "code",
   "execution_count": 69,
   "id": "collaborative-tanzania",
   "metadata": {},
   "outputs": [],
   "source": [
    "resultados['SVR'] = pd.DataFrame({ 'SVR': [rnd_search.best_params_, rnd_search.best_score_, np.round(np.min(-validacao_SVR ),3)] })"
   ]
  },
  {
   "cell_type": "code",
   "execution_count": 70,
   "id": "tight-intention",
   "metadata": {},
   "outputs": [
    {
     "data": {
      "text/html": [
       "<div>\n",
       "<style scoped>\n",
       "    .dataframe tbody tr th:only-of-type {\n",
       "        vertical-align: middle;\n",
       "    }\n",
       "\n",
       "    .dataframe tbody tr th {\n",
       "        vertical-align: top;\n",
       "    }\n",
       "\n",
       "    .dataframe thead th {\n",
       "        text-align: right;\n",
       "    }\n",
       "</style>\n",
       "<table border=\"1\" class=\"dataframe\">\n",
       "  <thead>\n",
       "    <tr style=\"text-align: right;\">\n",
       "      <th></th>\n",
       "      <th>resultados</th>\n",
       "      <th>Linear</th>\n",
       "      <th>L1</th>\n",
       "      <th>L2</th>\n",
       "      <th>LinearSVR</th>\n",
       "      <th>KNN</th>\n",
       "      <th>MLP</th>\n",
       "      <th>DT</th>\n",
       "      <th>RF</th>\n",
       "      <th>GBM</th>\n",
       "      <th>SVR</th>\n",
       "    </tr>\n",
       "  </thead>\n",
       "  <tbody>\n",
       "    <tr>\n",
       "      <th>0</th>\n",
       "      <td>Melhor alfa</td>\n",
       "      <td>0.000</td>\n",
       "      <td>0.010046</td>\n",
       "      <td>26.034789</td>\n",
       "      <td>{'C': 0.16410600069924242, 'epsilon': 0.1}</td>\n",
       "      <td>{'n_neighbors': 24}</td>\n",
       "      <td>{'hidden_layer_sizes': 23}</td>\n",
       "      <td>{'ccp_alpha': 0.034775533051766463}</td>\n",
       "      <td>{'n_estimators': 1000, 'max_features': 10}</td>\n",
       "      <td>{'n_estimators': 37, 'max_features': 0.2875917...</td>\n",
       "      <td>{'C': 3.753556948446938, 'epsilon': 0.1, 'gamm...</td>\n",
       "    </tr>\n",
       "    <tr>\n",
       "      <th>1</th>\n",
       "      <td>Melhor score</td>\n",
       "      <td>0.000</td>\n",
       "      <td>0.723699</td>\n",
       "      <td>0.722016</td>\n",
       "      <td>0.726464</td>\n",
       "      <td>0.622196</td>\n",
       "      <td>0.383365</td>\n",
       "      <td>0.617192</td>\n",
       "      <td>0.703717</td>\n",
       "      <td>0.69252</td>\n",
       "      <td>0.576467</td>\n",
       "    </tr>\n",
       "    <tr>\n",
       "      <th>2</th>\n",
       "      <td>default_score</td>\n",
       "      <td>1.454</td>\n",
       "      <td>1.736000</td>\n",
       "      <td>1.454000</td>\n",
       "      <td>1.424</td>\n",
       "      <td>1.634</td>\n",
       "      <td>1.854</td>\n",
       "      <td>2.153</td>\n",
       "      <td>1.429</td>\n",
       "      <td>1.438</td>\n",
       "      <td>1.502</td>\n",
       "    </tr>\n",
       "  </tbody>\n",
       "</table>\n",
       "</div>"
      ],
      "text/plain": [
       "      resultados  Linear        L1         L2  \\\n",
       "0    Melhor alfa   0.000  0.010046  26.034789   \n",
       "1   Melhor score   0.000  0.723699   0.722016   \n",
       "2  default_score   1.454  1.736000   1.454000   \n",
       "\n",
       "                                    LinearSVR                  KNN  \\\n",
       "0  {'C': 0.16410600069924242, 'epsilon': 0.1}  {'n_neighbors': 24}   \n",
       "1                                    0.726464             0.622196   \n",
       "2                                       1.424                1.634   \n",
       "\n",
       "                          MLP                                   DT  \\\n",
       "0  {'hidden_layer_sizes': 23}  {'ccp_alpha': 0.034775533051766463}   \n",
       "1                    0.383365                             0.617192   \n",
       "2                       1.854                                2.153   \n",
       "\n",
       "                                           RF  \\\n",
       "0  {'n_estimators': 1000, 'max_features': 10}   \n",
       "1                                    0.703717   \n",
       "2                                       1.429   \n",
       "\n",
       "                                                 GBM  \\\n",
       "0  {'n_estimators': 37, 'max_features': 0.2875917...   \n",
       "1                                            0.69252   \n",
       "2                                              1.438   \n",
       "\n",
       "                                                 SVR  \n",
       "0  {'C': 3.753556948446938, 'epsilon': 0.1, 'gamm...  \n",
       "1                                           0.576467  \n",
       "2                                              1.502  "
      ]
     },
     "execution_count": 70,
     "metadata": {},
     "output_type": "execute_result"
    }
   ],
   "source": [
    "resultados"
   ]
  },
  {
   "cell_type": "markdown",
   "id": "royal-founder",
   "metadata": {},
   "source": [
    "### KNN"
   ]
  },
  {
   "cell_type": "code",
   "execution_count": 33,
   "id": "capable-notification",
   "metadata": {},
   "outputs": [],
   "source": [
    "from sklearn.neighbors import KNeighborsRegressor"
   ]
  },
  {
   "cell_type": "code",
   "execution_count": 34,
   "id": "alpha-coordinate",
   "metadata": {},
   "outputs": [],
   "source": [
    "knn_params = {\n",
    "    'n_neighbors':np.random.randint(1, 1000, 10)\n",
    "    }"
   ]
  },
  {
   "cell_type": "code",
   "execution_count": 36,
   "id": "naked-socket",
   "metadata": {},
   "outputs": [],
   "source": [
    "rnd_search = RandomizedSearchCV(KNeighborsRegressor(), knn_params, n_iter =1000)\n",
    "search = rnd_search .fit(X, targets)\n",
    "\n",
    "validacao_KNN = cross_val_score(KNeighborsRegressor(), X, targets, scoring='neg_root_mean_squared_error')\n"
   ]
  },
  {
   "cell_type": "code",
   "execution_count": 37,
   "id": "dirty-action",
   "metadata": {},
   "outputs": [
    {
     "name": "stdout",
     "output_type": "stream",
     "text": [
      "Melhor k {'n_neighbors': 24}\n",
      "Melhor score 0.6221955777470624\n",
      "default_score 1.634\n"
     ]
    }
   ],
   "source": [
    "print(\"Melhor k\", rnd_search.best_params_)\n",
    "print(\"Melhor score\", rnd_search.best_score_)\n",
    "print(\"default_score\", np.round(np.min(-validacao_KNN),3))"
   ]
  },
  {
   "cell_type": "code",
   "execution_count": 38,
   "id": "offensive-julian",
   "metadata": {},
   "outputs": [],
   "source": [
    "resultados['KNN'] = pd.DataFrame({ 'KNN': [rnd_search.best_params_, rnd_search.best_score_, np.round(np.min(-validacao_KNN),3)] })"
   ]
  },
  {
   "cell_type": "code",
   "execution_count": 39,
   "id": "saving-panic",
   "metadata": {},
   "outputs": [
    {
     "data": {
      "text/html": [
       "<div>\n",
       "<style scoped>\n",
       "    .dataframe tbody tr th:only-of-type {\n",
       "        vertical-align: middle;\n",
       "    }\n",
       "\n",
       "    .dataframe tbody tr th {\n",
       "        vertical-align: top;\n",
       "    }\n",
       "\n",
       "    .dataframe thead th {\n",
       "        text-align: right;\n",
       "    }\n",
       "</style>\n",
       "<table border=\"1\" class=\"dataframe\">\n",
       "  <thead>\n",
       "    <tr style=\"text-align: right;\">\n",
       "      <th></th>\n",
       "      <th>resultados</th>\n",
       "      <th>Linear</th>\n",
       "      <th>L1</th>\n",
       "      <th>L2</th>\n",
       "      <th>LinearSVR</th>\n",
       "      <th>KNN</th>\n",
       "    </tr>\n",
       "  </thead>\n",
       "  <tbody>\n",
       "    <tr>\n",
       "      <th>0</th>\n",
       "      <td>Melhor alfa</td>\n",
       "      <td>0.000</td>\n",
       "      <td>0.010046</td>\n",
       "      <td>26.034789</td>\n",
       "      <td>{'C': 0.16410600069924242, 'epsilon': 0.1}</td>\n",
       "      <td>{'n_neighbors': 24}</td>\n",
       "    </tr>\n",
       "    <tr>\n",
       "      <th>1</th>\n",
       "      <td>Melhor score</td>\n",
       "      <td>0.000</td>\n",
       "      <td>0.723699</td>\n",
       "      <td>0.722016</td>\n",
       "      <td>0.726464</td>\n",
       "      <td>0.622196</td>\n",
       "    </tr>\n",
       "    <tr>\n",
       "      <th>2</th>\n",
       "      <td>default_score</td>\n",
       "      <td>1.454</td>\n",
       "      <td>1.736000</td>\n",
       "      <td>1.454000</td>\n",
       "      <td>1.424</td>\n",
       "      <td>1.634</td>\n",
       "    </tr>\n",
       "  </tbody>\n",
       "</table>\n",
       "</div>"
      ],
      "text/plain": [
       "      resultados  Linear        L1         L2  \\\n",
       "0    Melhor alfa   0.000  0.010046  26.034789   \n",
       "1   Melhor score   0.000  0.723699   0.722016   \n",
       "2  default_score   1.454  1.736000   1.454000   \n",
       "\n",
       "                                    LinearSVR                  KNN  \n",
       "0  {'C': 0.16410600069924242, 'epsilon': 0.1}  {'n_neighbors': 24}  \n",
       "1                                    0.726464             0.622196  \n",
       "2                                       1.424                1.634  "
      ]
     },
     "execution_count": 39,
     "metadata": {},
     "output_type": "execute_result"
    }
   ],
   "source": [
    "resultados"
   ]
  },
  {
   "cell_type": "markdown",
   "id": "informative-anniversary",
   "metadata": {},
   "source": [
    "### MLP"
   ]
  },
  {
   "cell_type": "code",
   "execution_count": 40,
   "id": "aging-notebook",
   "metadata": {},
   "outputs": [],
   "source": [
    "from sklearn.neural_network import MLPRegressor"
   ]
  },
  {
   "cell_type": "code",
   "execution_count": 41,
   "id": "suffering-there",
   "metadata": {},
   "outputs": [],
   "source": [
    "MLP_params = {\n",
    "    'hidden_layer_sizes':(5,8,11,14,17,20,23)\n",
    "    }"
   ]
  },
  {
   "cell_type": "code",
   "execution_count": 42,
   "id": "moderate-workstation",
   "metadata": {},
   "outputs": [],
   "source": [
    "rnd_search = RandomizedSearchCV(MLPRegressor(), MLP_params, n_iter =10)\n",
    "search = rnd_search .fit(X, targets)\n",
    "\n",
    "validacao_MLP = cross_val_score(MLPRegressor(), X, targets, scoring='neg_root_mean_squared_error')\n"
   ]
  },
  {
   "cell_type": "code",
   "execution_count": 43,
   "id": "involved-cannon",
   "metadata": {},
   "outputs": [
    {
     "name": "stdout",
     "output_type": "stream",
     "text": [
      "Melhor k {'hidden_layer_sizes': 23}\n",
      "Melhor score 0.3833650415444818\n",
      "default_score 1.854\n"
     ]
    }
   ],
   "source": [
    "print(\"Melhor k\", rnd_search.best_params_)\n",
    "print(\"Melhor score\", rnd_search.best_score_)\n",
    "print(\"default_score\", np.round(np.min(-validacao_MLP ),3))"
   ]
  },
  {
   "cell_type": "code",
   "execution_count": 44,
   "id": "primary-palestine",
   "metadata": {},
   "outputs": [],
   "source": [
    "resultados['MLP'] = pd.DataFrame({ 'MLP': [rnd_search.best_params_, rnd_search.best_score_, np.round(np.min(-validacao_MLP),3)] })"
   ]
  },
  {
   "cell_type": "code",
   "execution_count": 45,
   "id": "antique-aurora",
   "metadata": {},
   "outputs": [
    {
     "data": {
      "text/html": [
       "<div>\n",
       "<style scoped>\n",
       "    .dataframe tbody tr th:only-of-type {\n",
       "        vertical-align: middle;\n",
       "    }\n",
       "\n",
       "    .dataframe tbody tr th {\n",
       "        vertical-align: top;\n",
       "    }\n",
       "\n",
       "    .dataframe thead th {\n",
       "        text-align: right;\n",
       "    }\n",
       "</style>\n",
       "<table border=\"1\" class=\"dataframe\">\n",
       "  <thead>\n",
       "    <tr style=\"text-align: right;\">\n",
       "      <th></th>\n",
       "      <th>resultados</th>\n",
       "      <th>Linear</th>\n",
       "      <th>L1</th>\n",
       "      <th>L2</th>\n",
       "      <th>LinearSVR</th>\n",
       "      <th>KNN</th>\n",
       "      <th>MLP</th>\n",
       "    </tr>\n",
       "  </thead>\n",
       "  <tbody>\n",
       "    <tr>\n",
       "      <th>0</th>\n",
       "      <td>Melhor alfa</td>\n",
       "      <td>0.000</td>\n",
       "      <td>0.010046</td>\n",
       "      <td>26.034789</td>\n",
       "      <td>{'C': 0.16410600069924242, 'epsilon': 0.1}</td>\n",
       "      <td>{'n_neighbors': 24}</td>\n",
       "      <td>{'hidden_layer_sizes': 23}</td>\n",
       "    </tr>\n",
       "    <tr>\n",
       "      <th>1</th>\n",
       "      <td>Melhor score</td>\n",
       "      <td>0.000</td>\n",
       "      <td>0.723699</td>\n",
       "      <td>0.722016</td>\n",
       "      <td>0.726464</td>\n",
       "      <td>0.622196</td>\n",
       "      <td>0.383365</td>\n",
       "    </tr>\n",
       "    <tr>\n",
       "      <th>2</th>\n",
       "      <td>default_score</td>\n",
       "      <td>1.454</td>\n",
       "      <td>1.736000</td>\n",
       "      <td>1.454000</td>\n",
       "      <td>1.424</td>\n",
       "      <td>1.634</td>\n",
       "      <td>1.854</td>\n",
       "    </tr>\n",
       "  </tbody>\n",
       "</table>\n",
       "</div>"
      ],
      "text/plain": [
       "      resultados  Linear        L1         L2  \\\n",
       "0    Melhor alfa   0.000  0.010046  26.034789   \n",
       "1   Melhor score   0.000  0.723699   0.722016   \n",
       "2  default_score   1.454  1.736000   1.454000   \n",
       "\n",
       "                                    LinearSVR                  KNN  \\\n",
       "0  {'C': 0.16410600069924242, 'epsilon': 0.1}  {'n_neighbors': 24}   \n",
       "1                                    0.726464             0.622196   \n",
       "2                                       1.424                1.634   \n",
       "\n",
       "                          MLP  \n",
       "0  {'hidden_layer_sizes': 23}  \n",
       "1                    0.383365  \n",
       "2                       1.854  "
      ]
     },
     "execution_count": 45,
     "metadata": {},
     "output_type": "execute_result"
    }
   ],
   "source": [
    "resultados"
   ]
  },
  {
   "cell_type": "markdown",
   "id": "diverse-artist",
   "metadata": {},
   "source": [
    "### Arvore de decisão"
   ]
  },
  {
   "cell_type": "code",
   "execution_count": 46,
   "id": "third-fraction",
   "metadata": {},
   "outputs": [],
   "source": [
    "from sklearn.tree import DecisionTreeRegressor"
   ]
  },
  {
   "cell_type": "code",
   "execution_count": 47,
   "id": "marine-france",
   "metadata": {},
   "outputs": [],
   "source": [
    "dtree_params = {\n",
    "    'ccp_alpha':[random.uniform(0.0, 0.4) for i in range(10)]\n",
    "    }"
   ]
  },
  {
   "cell_type": "code",
   "execution_count": 48,
   "id": "viral-clinton",
   "metadata": {},
   "outputs": [],
   "source": [
    "rnd_search = RandomizedSearchCV(DecisionTreeRegressor(), dtree_params, n_iter =10)\n",
    "search = rnd_search.fit(X, targets)\n",
    "\n",
    "validacao_DT = cross_val_score(DecisionTreeRegressor(), X, targets, scoring='neg_root_mean_squared_error')\n"
   ]
  },
  {
   "cell_type": "code",
   "execution_count": 49,
   "id": "emotional-daughter",
   "metadata": {},
   "outputs": [
    {
     "name": "stdout",
     "output_type": "stream",
     "text": [
      "Melhor k {'ccp_alpha': 0.034775533051766463}\n",
      "Melhor score 0.6171919580564855\n",
      "default_score 2.153\n"
     ]
    }
   ],
   "source": [
    "print(\"Melhor k\", rnd_search.best_params_)\n",
    "print(\"Melhor score\", rnd_search.best_score_)\n",
    "print(\"default_score\", np.round(np.min(-validacao_DT ),3))"
   ]
  },
  {
   "cell_type": "code",
   "execution_count": 50,
   "id": "direct-integrity",
   "metadata": {},
   "outputs": [],
   "source": [
    "resultados['DT'] = pd.DataFrame({ 'DT': [rnd_search.best_params_, rnd_search.best_score_, np.round(np.min(-validacao_DT),3)] })"
   ]
  },
  {
   "cell_type": "markdown",
   "id": "literary-state",
   "metadata": {},
   "source": [
    "### Random Forest"
   ]
  },
  {
   "cell_type": "code",
   "execution_count": 51,
   "id": "improving-enforcement",
   "metadata": {},
   "outputs": [],
   "source": [
    "from sklearn.ensemble import RandomForestRegressor"
   ]
  },
  {
   "cell_type": "code",
   "execution_count": 52,
   "id": "compliant-uncertainty",
   "metadata": {},
   "outputs": [],
   "source": [
    "rf_params = {\n",
    "    'n_estimators':[10, 100, 1000],\n",
    "    'max_features':[5, 10, 22]\n",
    "    }"
   ]
  },
  {
   "cell_type": "code",
   "execution_count": 53,
   "id": "played-settlement",
   "metadata": {},
   "outputs": [],
   "source": [
    "rnd_search = RandomizedSearchCV(RandomForestRegressor(), rf_params, n_iter =10)\n",
    "search = rnd_search.fit(X, targets)\n",
    "\n",
    "validacao_RF = cross_val_score(RandomForestRegressor(), X, targets, scoring='neg_root_mean_squared_error')\n"
   ]
  },
  {
   "cell_type": "code",
   "execution_count": 55,
   "id": "miniature-white",
   "metadata": {},
   "outputs": [
    {
     "name": "stdout",
     "output_type": "stream",
     "text": [
      "Melhor k {'n_estimators': 1000, 'max_features': 10}\n",
      "Melhor score 0.7037171823137351\n",
      "default_score 1.429\n"
     ]
    }
   ],
   "source": [
    "print(\"Melhor k\", rnd_search.best_params_)\n",
    "print(\"Melhor score\", rnd_search.best_score_)\n",
    "print(\"default_score\", np.round(np.min(-validacao_RF),3))"
   ]
  },
  {
   "cell_type": "code",
   "execution_count": 56,
   "id": "described-henry",
   "metadata": {},
   "outputs": [],
   "source": [
    "resultados['RF'] = pd.DataFrame({ 'RF': [rnd_search.best_params_, rnd_search.best_score_, np.round(np.min(-validacao_RF),3)] })"
   ]
  },
  {
   "cell_type": "code",
   "execution_count": 57,
   "id": "greater-headquarters",
   "metadata": {},
   "outputs": [
    {
     "data": {
      "text/html": [
       "<div>\n",
       "<style scoped>\n",
       "    .dataframe tbody tr th:only-of-type {\n",
       "        vertical-align: middle;\n",
       "    }\n",
       "\n",
       "    .dataframe tbody tr th {\n",
       "        vertical-align: top;\n",
       "    }\n",
       "\n",
       "    .dataframe thead th {\n",
       "        text-align: right;\n",
       "    }\n",
       "</style>\n",
       "<table border=\"1\" class=\"dataframe\">\n",
       "  <thead>\n",
       "    <tr style=\"text-align: right;\">\n",
       "      <th></th>\n",
       "      <th>resultados</th>\n",
       "      <th>Linear</th>\n",
       "      <th>L1</th>\n",
       "      <th>L2</th>\n",
       "      <th>LinearSVR</th>\n",
       "      <th>KNN</th>\n",
       "      <th>MLP</th>\n",
       "      <th>DT</th>\n",
       "      <th>RF</th>\n",
       "    </tr>\n",
       "  </thead>\n",
       "  <tbody>\n",
       "    <tr>\n",
       "      <th>0</th>\n",
       "      <td>Melhor alfa</td>\n",
       "      <td>0.000</td>\n",
       "      <td>0.010046</td>\n",
       "      <td>26.034789</td>\n",
       "      <td>{'C': 0.16410600069924242, 'epsilon': 0.1}</td>\n",
       "      <td>{'n_neighbors': 24}</td>\n",
       "      <td>{'hidden_layer_sizes': 23}</td>\n",
       "      <td>{'ccp_alpha': 0.034775533051766463}</td>\n",
       "      <td>{'n_estimators': 1000, 'max_features': 10}</td>\n",
       "    </tr>\n",
       "    <tr>\n",
       "      <th>1</th>\n",
       "      <td>Melhor score</td>\n",
       "      <td>0.000</td>\n",
       "      <td>0.723699</td>\n",
       "      <td>0.722016</td>\n",
       "      <td>0.726464</td>\n",
       "      <td>0.622196</td>\n",
       "      <td>0.383365</td>\n",
       "      <td>0.617192</td>\n",
       "      <td>0.703717</td>\n",
       "    </tr>\n",
       "    <tr>\n",
       "      <th>2</th>\n",
       "      <td>default_score</td>\n",
       "      <td>1.454</td>\n",
       "      <td>1.736000</td>\n",
       "      <td>1.454000</td>\n",
       "      <td>1.424</td>\n",
       "      <td>1.634</td>\n",
       "      <td>1.854</td>\n",
       "      <td>2.153</td>\n",
       "      <td>1.429</td>\n",
       "    </tr>\n",
       "  </tbody>\n",
       "</table>\n",
       "</div>"
      ],
      "text/plain": [
       "      resultados  Linear        L1         L2  \\\n",
       "0    Melhor alfa   0.000  0.010046  26.034789   \n",
       "1   Melhor score   0.000  0.723699   0.722016   \n",
       "2  default_score   1.454  1.736000   1.454000   \n",
       "\n",
       "                                    LinearSVR                  KNN  \\\n",
       "0  {'C': 0.16410600069924242, 'epsilon': 0.1}  {'n_neighbors': 24}   \n",
       "1                                    0.726464             0.622196   \n",
       "2                                       1.424                1.634   \n",
       "\n",
       "                          MLP                                   DT  \\\n",
       "0  {'hidden_layer_sizes': 23}  {'ccp_alpha': 0.034775533051766463}   \n",
       "1                    0.383365                             0.617192   \n",
       "2                       1.854                                2.153   \n",
       "\n",
       "                                           RF  \n",
       "0  {'n_estimators': 1000, 'max_features': 10}  \n",
       "1                                    0.703717  \n",
       "2                                       1.429  "
      ]
     },
     "execution_count": 57,
     "metadata": {},
     "output_type": "execute_result"
    }
   ],
   "source": [
    "resultados"
   ]
  },
  {
   "cell_type": "markdown",
   "id": "headed-lightweight",
   "metadata": {},
   "source": [
    "### GBM"
   ]
  },
  {
   "cell_type": "code",
   "execution_count": 58,
   "id": "disciplinary-nursery",
   "metadata": {},
   "outputs": [],
   "source": [
    "from sklearn.ensemble import GradientBoostingRegressor"
   ]
  },
  {
   "cell_type": "code",
   "execution_count": 60,
   "id": "lucky-swimming",
   "metadata": {},
   "outputs": [],
   "source": [
    "gbm_params = {\n",
    "    'n_estimators': np.random.randint(5, 100, 10),\n",
    "    'max_features':[random.uniform(0.01, 0.3) for i in range(10)],\n",
    "    'max_depth':[2, 3]\n",
    "    }"
   ]
  },
  {
   "cell_type": "code",
   "execution_count": 61,
   "id": "surprised-token",
   "metadata": {},
   "outputs": [],
   "source": [
    "rnd_search = RandomizedSearchCV(GradientBoostingRegressor(), gbm_params , n_iter =10)\n",
    "search = rnd_search.fit(X, targets)\n",
    "\n",
    "validacao_GBM = cross_val_score(GradientBoostingRegressor(), X, targets, scoring='neg_root_mean_squared_error')\n"
   ]
  },
  {
   "cell_type": "code",
   "execution_count": 62,
   "id": "quarterly-congo",
   "metadata": {},
   "outputs": [
    {
     "name": "stdout",
     "output_type": "stream",
     "text": [
      "Melhor k {'n_estimators': 37, 'max_features': 0.28759179093996656, 'max_depth': 3}\n",
      "Melhor score 0.6925203005825169\n",
      "default_score 1.438\n"
     ]
    }
   ],
   "source": [
    "print(\"Melhor k\", rnd_search.best_params_)\n",
    "print(\"Melhor score\", rnd_search.best_score_)\n",
    "print(\"default_score\", np.round(np.min(-validacao_GBM),3))"
   ]
  },
  {
   "cell_type": "code",
   "execution_count": 63,
   "id": "foster-protest",
   "metadata": {},
   "outputs": [],
   "source": [
    "resultados['GBM'] = pd.DataFrame({ 'GBM': [rnd_search.best_params_, rnd_search.best_score_, np.round(np.min(-validacao_GBM),3)] })"
   ]
  },
  {
   "cell_type": "code",
   "execution_count": 71,
   "id": "finished-salem",
   "metadata": {},
   "outputs": [
    {
     "data": {
      "text/html": [
       "<div>\n",
       "<style scoped>\n",
       "    .dataframe tbody tr th:only-of-type {\n",
       "        vertical-align: middle;\n",
       "    }\n",
       "\n",
       "    .dataframe tbody tr th {\n",
       "        vertical-align: top;\n",
       "    }\n",
       "\n",
       "    .dataframe thead th {\n",
       "        text-align: right;\n",
       "    }\n",
       "</style>\n",
       "<table border=\"1\" class=\"dataframe\">\n",
       "  <thead>\n",
       "    <tr style=\"text-align: right;\">\n",
       "      <th></th>\n",
       "      <th>resultados</th>\n",
       "      <th>Linear</th>\n",
       "      <th>L1</th>\n",
       "      <th>L2</th>\n",
       "      <th>LinearSVR</th>\n",
       "      <th>KNN</th>\n",
       "      <th>MLP</th>\n",
       "      <th>DT</th>\n",
       "      <th>RF</th>\n",
       "      <th>GBM</th>\n",
       "      <th>SVR</th>\n",
       "    </tr>\n",
       "  </thead>\n",
       "  <tbody>\n",
       "    <tr>\n",
       "      <th>0</th>\n",
       "      <td>Melhor alfa</td>\n",
       "      <td>0.000</td>\n",
       "      <td>0.010046</td>\n",
       "      <td>26.034789</td>\n",
       "      <td>{'C': 0.16410600069924242, 'epsilon': 0.1}</td>\n",
       "      <td>{'n_neighbors': 24}</td>\n",
       "      <td>{'hidden_layer_sizes': 23}</td>\n",
       "      <td>{'ccp_alpha': 0.034775533051766463}</td>\n",
       "      <td>{'n_estimators': 1000, 'max_features': 10}</td>\n",
       "      <td>{'n_estimators': 37, 'max_features': 0.2875917...</td>\n",
       "      <td>{'C': 3.753556948446938, 'epsilon': 0.1, 'gamm...</td>\n",
       "    </tr>\n",
       "    <tr>\n",
       "      <th>1</th>\n",
       "      <td>Melhor score</td>\n",
       "      <td>0.000</td>\n",
       "      <td>0.723699</td>\n",
       "      <td>0.722016</td>\n",
       "      <td>0.726464</td>\n",
       "      <td>0.622196</td>\n",
       "      <td>0.383365</td>\n",
       "      <td>0.617192</td>\n",
       "      <td>0.703717</td>\n",
       "      <td>0.69252</td>\n",
       "      <td>0.576467</td>\n",
       "    </tr>\n",
       "    <tr>\n",
       "      <th>2</th>\n",
       "      <td>default_score</td>\n",
       "      <td>1.454</td>\n",
       "      <td>1.736000</td>\n",
       "      <td>1.454000</td>\n",
       "      <td>1.424</td>\n",
       "      <td>1.634</td>\n",
       "      <td>1.854</td>\n",
       "      <td>2.153</td>\n",
       "      <td>1.429</td>\n",
       "      <td>1.438</td>\n",
       "      <td>1.502</td>\n",
       "    </tr>\n",
       "  </tbody>\n",
       "</table>\n",
       "</div>"
      ],
      "text/plain": [
       "      resultados  Linear        L1         L2  \\\n",
       "0    Melhor alfa   0.000  0.010046  26.034789   \n",
       "1   Melhor score   0.000  0.723699   0.722016   \n",
       "2  default_score   1.454  1.736000   1.454000   \n",
       "\n",
       "                                    LinearSVR                  KNN  \\\n",
       "0  {'C': 0.16410600069924242, 'epsilon': 0.1}  {'n_neighbors': 24}   \n",
       "1                                    0.726464             0.622196   \n",
       "2                                       1.424                1.634   \n",
       "\n",
       "                          MLP                                   DT  \\\n",
       "0  {'hidden_layer_sizes': 23}  {'ccp_alpha': 0.034775533051766463}   \n",
       "1                    0.383365                             0.617192   \n",
       "2                       1.854                                2.153   \n",
       "\n",
       "                                           RF  \\\n",
       "0  {'n_estimators': 1000, 'max_features': 10}   \n",
       "1                                    0.703717   \n",
       "2                                       1.429   \n",
       "\n",
       "                                                 GBM  \\\n",
       "0  {'n_estimators': 37, 'max_features': 0.2875917...   \n",
       "1                                            0.69252   \n",
       "2                                              1.438   \n",
       "\n",
       "                                                 SVR  \n",
       "0  {'C': 3.753556948446938, 'epsilon': 0.1, 'gamm...  \n",
       "1                                           0.576467  \n",
       "2                                              1.502  "
      ]
     },
     "execution_count": 71,
     "metadata": {},
     "output_type": "execute_result"
    }
   ],
   "source": [
    "resultados"
   ]
  }
 ],
 "metadata": {
  "kernelspec": {
   "display_name": "Python 3.6.2 64-bit",
   "language": "python",
   "name": "python36264bit225fd2f26ccd45118a7b996b38d17c90"
  },
  "language_info": {
   "codemirror_mode": {
    "name": "ipython",
    "version": 3
   },
   "file_extension": ".py",
   "mimetype": "text/x-python",
   "name": "python",
   "nbconvert_exporter": "python",
   "pygments_lexer": "ipython3",
   "version": "3.6.2"
  }
 },
 "nbformat": 4,
 "nbformat_minor": 5
}
